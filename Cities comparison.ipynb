{
 "cells": [
  {
   "cell_type": "markdown",
   "metadata": {},
   "source": [
    "# Cities comparison of Rome and Paris, a story of a citizen twinning"
   ]
  },
  {
   "cell_type": "markdown",
   "metadata": {},
   "source": [
    "## 1- Description of the problem and a discussion of the background"
   ]
  },
  {
   "cell_type": "markdown",
   "metadata": {},
   "source": [
    "The project aim is to show the features differences from two european capital strongly twinned from over 60 years, Paris and Rome. The cities appears quite differently in aspect for historical reason and related development, but we can try to get some similarity for catch some connection over this cities. The region in the far history have to do with each other in some aspect in Roman era for conflicts, successfully characterized ironically with a famous cartoons series \"Asterix\" and later with quite strong relationship of various type with the Vatican. A similarity can be found with a development and growth of the cities around  rivers Senna and Tevere, for Paris and Rome respectively. We can say that the cities and lands had many cultural exchanges in the past and somehow testified by the fact that in general the french are called sometimes \"cousins\" from some italian friendly trends. \n",
    "The two cities in a actual view, summarily have some characteristic feature difference in population density and extension: Paris, have more density of population instead of much smaller extension, Rome have less density for much more extension. The other clear difference is a latitude that change the climate type, for Paris is like ocean-continental climate instead tempered climate with quite hot summer for Rome.\n",
    "The challenge is to find some different or similar characteristic from various aspect and eventually find a logical connection from these to underlying and tell a resume of the cities."
   ]
  },
  {
   "cell_type": "markdown",
   "metadata": {},
   "source": [
    "## 2- Data description"
   ]
  },
  {
   "cell_type": "markdown",
   "metadata": {},
   "source": [
    "The data are offered by one official site of Rome and a complete site that resume various data for Paris:\n",
    "\n",
    "- https://www.comune.roma.it/web/it/analisi-statistiche.page\n",
    "\n",
    "- https://opendata.paris.fr/pages/home/\n",
    "\n",
    "I used \"Foursquare API\" for underlying some venues attitude and distribution.\n",
    "Some difficult are finded to adapt the data, because the Rome data is not very up-to-date and the site for Paris not offer a native translation to english, for a immediate navigation. \n",
    "The data are used in some case for histogram and other to show maps that aggregate a concept of similarity and difference visually."
   ]
  },
  {
   "cell_type": "code",
   "execution_count": null,
   "metadata": {},
   "outputs": [],
   "source": []
  }
 ],
 "metadata": {
  "kernelspec": {
   "display_name": "Python",
   "language": "python",
   "name": "conda-env-python-py"
  },
  "language_info": {
   "codemirror_mode": {
    "name": "ipython",
    "version": 3
   },
   "file_extension": ".py",
   "mimetype": "text/x-python",
   "name": "python",
   "nbconvert_exporter": "python",
   "pygments_lexer": "ipython3",
   "version": "3.6.10"
  }
 },
 "nbformat": 4,
 "nbformat_minor": 4
}
